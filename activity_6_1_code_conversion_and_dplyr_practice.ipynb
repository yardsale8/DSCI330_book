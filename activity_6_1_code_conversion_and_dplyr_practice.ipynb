{
  "nbformat": 4,
  "nbformat_minor": 0,
  "metadata": {
    "kernelspec": {
      "display_name": "R",
      "language": "R",
      "name": "ir"
    },
    "language_info": {
      "codemirror_mode": "r",
      "file_extension": ".r",
      "mimetype": "text/x-r-source",
      "name": "R",
      "pygments_lexer": "r",
      "version": "3.5.1"
    },
    "colab": {
      "name": "activity_6_1_code_conversion_and_dplyr_practice.ipynb",
      "provenance": []
    }
  },
  "cells": [
    {
      "cell_type": "markdown",
      "metadata": {
        "id": "5gFwwtiJyTnV"
      },
      "source": [
        "# Activity 6.1 - Code conversion and `dplyr` practice"
      ]
    },
    {
      "cell_type": "code",
      "metadata": {
        "id": "f0ZAy9ATyTnZ",
        "outputId": "b7e5594c-fb46-4fa6-a454-70cfc7c91933",
        "colab": {
          "base_uri": "https://localhost:8080/"
        }
      },
      "source": [
        "library('dplyr')"
      ],
      "execution_count": 1,
      "outputs": [
        {
          "output_type": "stream",
          "name": "stderr",
          "text": [
            "\n",
            "Attaching package: ‘dplyr’\n",
            "\n",
            "\n",
            "The following objects are masked from ‘package:stats’:\n",
            "\n",
            "    filter, lag\n",
            "\n",
            "\n",
            "The following objects are masked from ‘package:base’:\n",
            "\n",
            "    intersect, setdiff, setequal, union\n",
            "\n",
            "\n"
          ]
        }
      ]
    },
    {
      "cell_type": "code",
      "metadata": {
        "id": "WDtVXIzkyTnf",
        "outputId": "cc35d477-da16-4bb2-e08d-d6cb1679df8f",
        "colab": {
          "base_uri": "https://localhost:8080/",
          "height": 286
        }
      },
      "source": [
        "surveys <- read.csv('https://github.com/WSU-DataScience/DSCI_210_R_notebooks/raw/main/data/portal_data_joined.csv')\n",
        "head(surveys)"
      ],
      "execution_count": 3,
      "outputs": [
        {
          "output_type": "display_data",
          "data": {
            "text/plain": [
              "  record_id month day year plot_id species_id sex hindfoot_length weight\n",
              "1   1        7    16  1977 2       NL         M   32              NA    \n",
              "2  72        8    19  1977 2       NL         M   31              NA    \n",
              "3 224        9    13  1977 2       NL             NA              NA    \n",
              "4 266       10    16  1977 2       NL             NA              NA    \n",
              "5 349       11    12  1977 2       NL             NA              NA    \n",
              "6 363       11    12  1977 2       NL             NA              NA    \n",
              "  genus   species  taxa   plot_type\n",
              "1 Neotoma albigula Rodent Control  \n",
              "2 Neotoma albigula Rodent Control  \n",
              "3 Neotoma albigula Rodent Control  \n",
              "4 Neotoma albigula Rodent Control  \n",
              "5 Neotoma albigula Rodent Control  \n",
              "6 Neotoma albigula Rodent Control  "
            ],
            "text/latex": "A data.frame: 6 × 13\n\\begin{tabular}{r|lllllllllllll}\n  & record\\_id & month & day & year & plot\\_id & species\\_id & sex & hindfoot\\_length & weight & genus & species & taxa & plot\\_type\\\\\n  & <int> & <int> & <int> & <int> & <int> & <chr> & <chr> & <int> & <int> & <chr> & <chr> & <chr> & <chr>\\\\\n\\hline\n\t1 &   1 &  7 & 16 & 1977 & 2 & NL & M & 32 & NA & Neotoma & albigula & Rodent & Control\\\\\n\t2 &  72 &  8 & 19 & 1977 & 2 & NL & M & 31 & NA & Neotoma & albigula & Rodent & Control\\\\\n\t3 & 224 &  9 & 13 & 1977 & 2 & NL &   & NA & NA & Neotoma & albigula & Rodent & Control\\\\\n\t4 & 266 & 10 & 16 & 1977 & 2 & NL &   & NA & NA & Neotoma & albigula & Rodent & Control\\\\\n\t5 & 349 & 11 & 12 & 1977 & 2 & NL &   & NA & NA & Neotoma & albigula & Rodent & Control\\\\\n\t6 & 363 & 11 & 12 & 1977 & 2 & NL &   & NA & NA & Neotoma & albigula & Rodent & Control\\\\\n\\end{tabular}\n",
            "text/markdown": "\nA data.frame: 6 × 13\n\n| <!--/--> | record_id &lt;int&gt; | month &lt;int&gt; | day &lt;int&gt; | year &lt;int&gt; | plot_id &lt;int&gt; | species_id &lt;chr&gt; | sex &lt;chr&gt; | hindfoot_length &lt;int&gt; | weight &lt;int&gt; | genus &lt;chr&gt; | species &lt;chr&gt; | taxa &lt;chr&gt; | plot_type &lt;chr&gt; |\n|---|---|---|---|---|---|---|---|---|---|---|---|---|---|\n| 1 |   1 |  7 | 16 | 1977 | 2 | NL | M | 32 | NA | Neotoma | albigula | Rodent | Control |\n| 2 |  72 |  8 | 19 | 1977 | 2 | NL | M | 31 | NA | Neotoma | albigula | Rodent | Control |\n| 3 | 224 |  9 | 13 | 1977 | 2 | NL | <!----> | NA | NA | Neotoma | albigula | Rodent | Control |\n| 4 | 266 | 10 | 16 | 1977 | 2 | NL | <!----> | NA | NA | Neotoma | albigula | Rodent | Control |\n| 5 | 349 | 11 | 12 | 1977 | 2 | NL | <!----> | NA | NA | Neotoma | albigula | Rodent | Control |\n| 6 | 363 | 11 | 12 | 1977 | 2 | NL | <!----> | NA | NA | Neotoma | albigula | Rodent | Control |\n\n",
            "text/html": [
              "<table class=\"dataframe\">\n",
              "<caption>A data.frame: 6 × 13</caption>\n",
              "<thead>\n",
              "\t<tr><th></th><th scope=col>record_id</th><th scope=col>month</th><th scope=col>day</th><th scope=col>year</th><th scope=col>plot_id</th><th scope=col>species_id</th><th scope=col>sex</th><th scope=col>hindfoot_length</th><th scope=col>weight</th><th scope=col>genus</th><th scope=col>species</th><th scope=col>taxa</th><th scope=col>plot_type</th></tr>\n",
              "\t<tr><th></th><th scope=col>&lt;int&gt;</th><th scope=col>&lt;int&gt;</th><th scope=col>&lt;int&gt;</th><th scope=col>&lt;int&gt;</th><th scope=col>&lt;int&gt;</th><th scope=col>&lt;chr&gt;</th><th scope=col>&lt;chr&gt;</th><th scope=col>&lt;int&gt;</th><th scope=col>&lt;int&gt;</th><th scope=col>&lt;chr&gt;</th><th scope=col>&lt;chr&gt;</th><th scope=col>&lt;chr&gt;</th><th scope=col>&lt;chr&gt;</th></tr>\n",
              "</thead>\n",
              "<tbody>\n",
              "\t<tr><th scope=row>1</th><td>  1</td><td> 7</td><td>16</td><td>1977</td><td>2</td><td>NL</td><td>M</td><td>32</td><td>NA</td><td>Neotoma</td><td>albigula</td><td>Rodent</td><td>Control</td></tr>\n",
              "\t<tr><th scope=row>2</th><td> 72</td><td> 8</td><td>19</td><td>1977</td><td>2</td><td>NL</td><td>M</td><td>31</td><td>NA</td><td>Neotoma</td><td>albigula</td><td>Rodent</td><td>Control</td></tr>\n",
              "\t<tr><th scope=row>3</th><td>224</td><td> 9</td><td>13</td><td>1977</td><td>2</td><td>NL</td><td> </td><td>NA</td><td>NA</td><td>Neotoma</td><td>albigula</td><td>Rodent</td><td>Control</td></tr>\n",
              "\t<tr><th scope=row>4</th><td>266</td><td>10</td><td>16</td><td>1977</td><td>2</td><td>NL</td><td> </td><td>NA</td><td>NA</td><td>Neotoma</td><td>albigula</td><td>Rodent</td><td>Control</td></tr>\n",
              "\t<tr><th scope=row>5</th><td>349</td><td>11</td><td>12</td><td>1977</td><td>2</td><td>NL</td><td> </td><td>NA</td><td>NA</td><td>Neotoma</td><td>albigula</td><td>Rodent</td><td>Control</td></tr>\n",
              "\t<tr><th scope=row>6</th><td>363</td><td>11</td><td>12</td><td>1977</td><td>2</td><td>NL</td><td> </td><td>NA</td><td>NA</td><td>Neotoma</td><td>albigula</td><td>Rodent</td><td>Control</td></tr>\n",
              "</tbody>\n",
              "</table>\n"
            ]
          },
          "metadata": {}
        }
      ]
    },
    {
      "cell_type": "markdown",
      "metadata": {
        "id": "FXwXO7AUyTni"
      },
      "source": [
        "## Problem 1\n",
        "\n",
        "\n",
        "Consider the following code that uses piping:\n",
        "  "
      ]
    },
    {
      "cell_type": "code",
      "metadata": {
        "scrolled": true,
        "id": "Dums2qslyTnj",
        "outputId": "132bb09f-316d-4b2e-c33f-9dd04ad1cc72",
        "colab": {
          "base_uri": "https://localhost:8080/",
          "height": 631
        }
      },
      "source": [
        "surveys %>%\n",
        "  filter(weight < 5) %>%\n",
        "  select(species_id, sex, weight)"
      ],
      "execution_count": 4,
      "outputs": [
        {
          "output_type": "display_data",
          "data": {
            "text/plain": [
              "   species_id sex weight\n",
              "1  PF         F   4     \n",
              "2  PF         F   4     \n",
              "3  PF         M   4     \n",
              "4  RM         F   4     \n",
              "5  RM         M   4     \n",
              "6  PF             4     \n",
              "7  PP         M   4     \n",
              "8  RM         M   4     \n",
              "9  RM         M   4     \n",
              "10 RM         M   4     \n",
              "11 PF         M   4     \n",
              "12 PF         F   4     \n",
              "13 RM         M   4     \n",
              "14 RM         M   4     \n",
              "15 RM         F   4     \n",
              "16 RM         M   4     \n",
              "17 RM         M   4     "
            ],
            "text/latex": "A data.frame: 17 × 3\n\\begin{tabular}{lll}\n species\\_id & sex & weight\\\\\n <chr> & <chr> & <int>\\\\\n\\hline\n\t PF & F & 4\\\\\n\t PF & F & 4\\\\\n\t PF & M & 4\\\\\n\t RM & F & 4\\\\\n\t RM & M & 4\\\\\n\t PF &   & 4\\\\\n\t PP & M & 4\\\\\n\t RM & M & 4\\\\\n\t RM & M & 4\\\\\n\t RM & M & 4\\\\\n\t PF & M & 4\\\\\n\t PF & F & 4\\\\\n\t RM & M & 4\\\\\n\t RM & M & 4\\\\\n\t RM & F & 4\\\\\n\t RM & M & 4\\\\\n\t RM & M & 4\\\\\n\\end{tabular}\n",
            "text/markdown": "\nA data.frame: 17 × 3\n\n| species_id &lt;chr&gt; | sex &lt;chr&gt; | weight &lt;int&gt; |\n|---|---|---|\n| PF | F | 4 |\n| PF | F | 4 |\n| PF | M | 4 |\n| RM | F | 4 |\n| RM | M | 4 |\n| PF | <!----> | 4 |\n| PP | M | 4 |\n| RM | M | 4 |\n| RM | M | 4 |\n| RM | M | 4 |\n| PF | M | 4 |\n| PF | F | 4 |\n| RM | M | 4 |\n| RM | M | 4 |\n| RM | F | 4 |\n| RM | M | 4 |\n| RM | M | 4 |\n\n",
            "text/html": [
              "<table class=\"dataframe\">\n",
              "<caption>A data.frame: 17 × 3</caption>\n",
              "<thead>\n",
              "\t<tr><th scope=col>species_id</th><th scope=col>sex</th><th scope=col>weight</th></tr>\n",
              "\t<tr><th scope=col>&lt;chr&gt;</th><th scope=col>&lt;chr&gt;</th><th scope=col>&lt;int&gt;</th></tr>\n",
              "</thead>\n",
              "<tbody>\n",
              "\t<tr><td>PF</td><td>F</td><td>4</td></tr>\n",
              "\t<tr><td>PF</td><td>F</td><td>4</td></tr>\n",
              "\t<tr><td>PF</td><td>M</td><td>4</td></tr>\n",
              "\t<tr><td>RM</td><td>F</td><td>4</td></tr>\n",
              "\t<tr><td>RM</td><td>M</td><td>4</td></tr>\n",
              "\t<tr><td>PF</td><td> </td><td>4</td></tr>\n",
              "\t<tr><td>PP</td><td>M</td><td>4</td></tr>\n",
              "\t<tr><td>RM</td><td>M</td><td>4</td></tr>\n",
              "\t<tr><td>RM</td><td>M</td><td>4</td></tr>\n",
              "\t<tr><td>RM</td><td>M</td><td>4</td></tr>\n",
              "\t<tr><td>PF</td><td>M</td><td>4</td></tr>\n",
              "\t<tr><td>PF</td><td>F</td><td>4</td></tr>\n",
              "\t<tr><td>RM</td><td>M</td><td>4</td></tr>\n",
              "\t<tr><td>RM</td><td>M</td><td>4</td></tr>\n",
              "\t<tr><td>RM</td><td>F</td><td>4</td></tr>\n",
              "\t<tr><td>RM</td><td>M</td><td>4</td></tr>\n",
              "\t<tr><td>RM</td><td>M</td><td>4</td></tr>\n",
              "</tbody>\n",
              "</table>\n"
            ]
          },
          "metadata": {}
        }
      ]
    },
    {
      "cell_type": "markdown",
      "metadata": {
        "id": "pzkpDYL9yTnk"
      },
      "source": [
        "#### A. Write an imperative version of this code.  "
      ]
    },
    {
      "cell_type": "code",
      "metadata": {
        "id": "Foba_M_byTnk"
      },
      "source": [
        "# Your code here"
      ],
      "execution_count": null,
      "outputs": []
    },
    {
      "cell_type": "markdown",
      "metadata": {
        "id": "APdDxhmAyTnm"
      },
      "source": [
        "#### B. Write a functional version of this code.  "
      ]
    },
    {
      "cell_type": "code",
      "metadata": {
        "id": "MjPBHOa-yTnm"
      },
      "source": [
        "# Your code here"
      ],
      "execution_count": null,
      "outputs": []
    },
    {
      "cell_type": "markdown",
      "metadata": {
        "id": "Q5KlBvZXyTnp"
      },
      "source": [
        "Now consider the following imperative code:"
      ]
    },
    {
      "cell_type": "code",
      "metadata": {
        "id": "Xsq8QKb-yTnp"
      },
      "source": [
        "x <- rnorm(100)\n",
        "x_rounded <- round(x, 1)\n",
        "x_rounded_sorted <- sort(x_rounded)\n",
        "x_rounded_sorted_smallest10 <- head(x_rounded_sorted, 10)\n",
        "sum_x_rounded_sorted_smallest10 <- sum(x_rounded_sorted_smallest10)"
      ],
      "execution_count": 5,
      "outputs": []
    },
    {
      "cell_type": "markdown",
      "metadata": {
        "id": "O-qjRlOVyTnr"
      },
      "source": [
        "#### C. Write a functional version of this code.  "
      ]
    },
    {
      "cell_type": "code",
      "metadata": {
        "id": "TTkz7hxUyTns"
      },
      "source": [
        "# Your code here"
      ],
      "execution_count": null,
      "outputs": []
    },
    {
      "cell_type": "markdown",
      "metadata": {
        "id": "AxmaQOm_yTns"
      },
      "source": [
        "#### D. Write a version of this code that uses piping. "
      ]
    },
    {
      "cell_type": "code",
      "metadata": {
        "id": "RTc2Ak8ZyTnt"
      },
      "source": [
        "# Your code here"
      ],
      "execution_count": null,
      "outputs": []
    },
    {
      "cell_type": "markdown",
      "metadata": {
        "id": "JSf_a-IWyTnt"
      },
      "source": [
        "## Problem 2\n",
        "  Create a new data frame from the surveys data that meets the following criteria: \n",
        "  \n",
        "- contains only the **`species_id`** column and \n",
        "- a new column called  **`hindfoot_half`**, with:\n",
        "    - values that are half the **`hindfoot_length`** values;\n",
        "    - no `NA`s;\n",
        "    - all values are less than 30.\n",
        "\n",
        "Hint: think about how the commands should be ordered to produce this data frame!\n",
        "  \n",
        "  "
      ]
    },
    {
      "cell_type": "code",
      "metadata": {
        "id": "bSbVgdCqyTnu"
      },
      "source": [
        "# Your code here"
      ],
      "execution_count": null,
      "outputs": []
    }
  ]
}